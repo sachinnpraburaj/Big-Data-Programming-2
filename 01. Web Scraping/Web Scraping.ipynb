{
 "cells": [
  {
   "cell_type": "markdown",
   "metadata": {},
   "source": [
    "# Assignment 1: Web Scraping"
   ]
  },
  {
   "cell_type": "markdown",
   "metadata": {},
   "source": [
    "## Objective"
   ]
  },
  {
   "cell_type": "markdown",
   "metadata": {},
   "source": [
    "Data scientists often need to crawl data from websites and turn the crawled data (HTML pages) to structured data (tables). Thus, web scraping is an essential skill that every data scientist should master. In this assignment, you will learn the followings:\n",
    "\n",
    "\n",
    "* How to use [requests](http://www.python-requests.org/en/master/) to download HTML pages from a website?\n",
    "* How to select content on a webpage with [lxml](http://lxml.de/)? \n",
    "\n",
    "You can either use Spark DataFrame or [pandas.DataFrame](http://pandas.pydata.org/pandas-docs/stable/generated/pandas.DataFrame.html) to do the assignment. In comparison, pandas.DataFrame has richer APIs, but is not good at distributed computing."
   ]
  },
  {
   "cell_type": "markdown",
   "metadata": {},
   "source": [
    "## Preliminary"
   ]
  },
  {
   "cell_type": "markdown",
   "metadata": {},
   "source": [
    "If this is your first time to write a web scraper, you need to learn some basic knowledge of HTML, DOM, and XPath. I found that this is a good resource: [https://data-lessons.github.io](https://data-lessons.github.io/library-webscraping-DEPRECATED/). Please take a look at\n",
    "\n",
    "* [Selecting content on a web page with XPath\n",
    "](https://data-lessons.github.io/library-webscraping-DEPRECATED/xpath/)\n",
    "* [Web scraping using Python: requests and lxml](https://data-lessons.github.io/library-webscraping-DEPRECATED/04-lxml/). \n",
    "\n",
    "Please let me know if you find a better resource. I'll share it with the other students."
   ]
  },
  {
   "cell_type": "markdown",
   "metadata": {},
   "source": [
    "## Overview"
   ]
  },
  {
   "cell_type": "markdown",
   "metadata": {},
   "source": [
    "Imagine you are a data scientist working at SFU. One day, you want to analyze CS faculty data and answer two interesting questions:\n",
    "\n",
    "1. Who are the CS faculty members?\n",
    "2. What are their research interests?\n",
    "\n",
    "To do so, the first thing is to figure out what data to collect."
   ]
  },
  {
   "cell_type": "markdown",
   "metadata": {},
   "source": [
    "## Task 1: SFU CS Faculty Members"
   ]
  },
  {
   "cell_type": "markdown",
   "metadata": {},
   "source": [
    "You find that there is a web page in the CS school website, which lists all the faculty members as well as their basic information. \n",
    "\n",
    "In Task 1, your job is to write a web scraper to extract the faculty information from this page: [https://www.sfu.ca/computing/people/faculty.html](https://www.sfu.ca/computing/people/faculty.html).\n",
    "\n",
    "\n"
   ]
  },
  {
   "cell_type": "markdown",
   "metadata": {},
   "source": [
    "### (a) Crawling Web Page"
   ]
  },
  {
   "cell_type": "markdown",
   "metadata": {},
   "source": [
    "A web page is essentially a file stored in a remote machine (called web server). You can use [requests](http://www.python-requests.org/en/master/) to open such a file and read data from it. Please complete the following code to download the HTML page and save it as a text file (like [this](./faculty.txt)). "
   ]
  },
  {
   "cell_type": "code",
   "execution_count": 1,
   "metadata": {},
   "outputs": [
    {
     "data": {
      "text/plain": [
       "125036"
      ]
     },
     "execution_count": 1,
     "metadata": {},
     "output_type": "execute_result"
    }
   ],
   "source": [
    "import requests\n",
    "\n",
    "\n",
    "# 1. Download the webpage\n",
    "url = 'https://www.sfu.ca/computing/people/faculty.html'\n",
    "page = requests.get( url )\n",
    "html = page.content\n",
    "\n",
    "# 2. Save it as a text file (named faculty.txt)\n",
    "open('faculty.txt','wb').write(html)"
   ]
  },
  {
   "cell_type": "markdown",
   "metadata": {},
   "source": [
    "### (b) Extracting Structured Data"
   ]
  },
  {
   "cell_type": "markdown",
   "metadata": {},
   "source": [
    "An HTML page follows the Document Object Model (DOM). It models an HTML page as a tree structure wherein each node is an object representing a part of the page. The nodes can be searched and extracted programmatically using XPath. Please complete the following code to transform the above HTML page to a CSV file (like [this](./faculty_table.csv)). "
   ]
  },
  {
   "cell_type": "code",
   "execution_count": 2,
   "metadata": {
    "scrolled": true
   },
   "outputs": [],
   "source": [
    "import lxml.html as lh\n",
    "\n",
    "# 1. Open faculty.txt\n",
    "html = open('faculty.txt','r').read()\n",
    "\n",
    "# 2. Parse the HTML page as a tree structure\n",
    "tree = lh.fromstring(html)\n",
    "\n",
    "# 3. Extract related content from the tree using XPath\n",
    "prof_container = tree.xpath('//div[@class=\"textimage section\"]')\n",
    "\n",
    "name = []\n",
    "rank = []\n",
    "area = []\n",
    "profile = []\n",
    "homepage = []\n",
    "\n",
    "for container in prof_container:\n",
    "    prof = container.xpath('./div/div[@class=\"text\"]')\n",
    "    text = prof[0].xpath('./h4/text()')[0].split(\", \")\n",
    "    \n",
    "    name.append(text[0])\n",
    "    \n",
    "    rank.append(text[1].split('\\n')[0].strip('\\xa0'))\n",
    "    \n",
    "    if(text[0] != \"Fred Popowich\"):\n",
    "        area.append(prof[0].xpath(\"./p/text()\")[0].strip(': ').strip('\\xa0'))\n",
    "    else:\n",
    "        area.append(prof[0].xpath(\"./h4/text()\")[-1][1:])\n",
    "    \n",
    "    if len(prof[0].xpath('./p[2]')) is 0:\n",
    "        profile.append('http://www.sfu.ca'+prof[0].xpath('./p/a/@href')[0])\n",
    "        homepage.append(prof[0].xpath('./p/a[2]/@href')[0])\n",
    "    elif len(prof[0].xpath('./p[2]/a')) is 0:\n",
    "        profile.append('http://www.sfu.ca'+prof[0].xpath('./p[3]/a/@href')[0])\n",
    "        homepage.append(prof[0].xpath('./p[3]/a[2]/@href')[0])\n",
    "    else:\n",
    "        profile.append('http://www.sfu.ca'+prof[0].xpath('./p[2]/a/@href')[0].replace('http://www.sfu.ca',''))\n",
    "        if len(prof[0].xpath('./p[2]/a[2]')) is 0:\n",
    "            homepage.append('')\n",
    "        else: \n",
    "            homepage.append(prof[0].xpath('./p[2]/a[2]/@href')[0])\n",
    "\n",
    "    \n",
    "# 4. Save the extracted content as an csv file (named faculty_table.csv)\n",
    "import pandas as pd\n",
    "\n",
    "df = pd.DataFrame({'name': name,\n",
    "                  'rank': rank,\n",
    "                  'area': area,\n",
    "                  'profile': profile,\n",
    "                  'homepage': homepage})\n",
    "df.to_csv('faculty_table.csv',index=False)\n"
   ]
  },
  {
   "cell_type": "markdown",
   "metadata": {},
   "source": [
    "## Task 2: Research Interests"
   ]
  },
  {
   "cell_type": "markdown",
   "metadata": {},
   "source": [
    "Suppose you want to know the research interests of each faculty. However, the above crawled web page does not contain such information. "
   ]
  },
  {
   "cell_type": "markdown",
   "metadata": {},
   "source": [
    "### (a) Crawling Web Page"
   ]
  },
  {
   "cell_type": "markdown",
   "metadata": {},
   "source": [
    "You notice that such information can be found on the profile page of each faculty. For example, you can find the research interests of Dr. Jiannan Wang from [http://www.sfu.ca/computing/people/faculty/jiannanwang.html](http://www.sfu.ca/computing/people/faculty/jiannanwang.html). \n",
    "\n",
    "\n",
    "Please complete the following code to download the profile pages and save them as text files. There are 60 faculties, so you need to download 60 web pages in total. "
   ]
  },
  {
   "cell_type": "code",
   "execution_count": 5,
   "metadata": {},
   "outputs": [],
   "source": [
    "import requests\n",
    "import pandas as pd\n",
    "\n",
    "# 1. Download the profile pages of 60 faculties\n",
    "df = pd.read_csv('faculty_table.csv')\n",
    "name = df['name'].tolist()\n",
    "profile = df['profile'].tolist()\n",
    "# 2. Save each page as a text file\n",
    "profiles = []\n",
    "\n",
    "for i in range(len(profile)):\n",
    "    page = requests.get(profile[i])\n",
    "    html = page.content\n",
    "    file = name[i].replace(' ','_')+\"_profile.txt\"\n",
    "    open(file,\"wb\").write(html)\n",
    "    profiles.append(file)\n",
    "    "
   ]
  },
  {
   "cell_type": "markdown",
   "metadata": {},
   "source": [
    "### (b) Extracting Structured Data"
   ]
  },
  {
   "cell_type": "markdown",
   "metadata": {},
   "source": [
    "Please complete the following code to extract the research interests of each faculty, and generate a file like [this](./faculty_more_table.csv). "
   ]
  },
  {
   "cell_type": "code",
   "execution_count": 6,
   "metadata": {},
   "outputs": [],
   "source": [
    "import lxml.html as lh\n",
    "import os\n",
    "import numpy as np\n",
    "\n",
    "# 1. Open each text file and parse it as a tree structure \n",
    "# 2. Extract the research interests from each tree using XPath\n",
    "# 3. Add the extracted content to faculty_table.csv\n",
    "# 4. Generate a new CSV file, named faculty_more_table.csv\n",
    "\n",
    "research_interests = []\n",
    "\n",
    "for filename in profiles:\n",
    "    html = open(filename,'r',encoding=\"utf-8\").read()\n",
    "    tree = lh.fromstring(html)\n",
    "    research = tree.xpath(\"//div[@class='parsys_column cq-colctrl-lt0 ']\")\n",
    "    ri = []\n",
    "    li = []\n",
    "    stri = [\"Research interests\",\"Research Interests\"]\n",
    "    locs = ['./div[2]/div[2]/div/h2/text()','./div[1]/div[4]/div/h2/text()','./div[2]/div[3]/div/h2/text()','./div[2]/div[4]/div/h2/text()']\n",
    "\n",
    "    for path in locs:\n",
    "        if len(research[0].xpath(path)) != 0 and research[0].xpath(path)[0] in stri:\n",
    "            li += research[0].xpath(path[:-10])[0].xpath('./ul//li')\n",
    "            for i in li:\n",
    "                ri.append(i.text_content())\n",
    "        else:\n",
    "            ri = ri\n",
    "            \n",
    "    if '\\n' in ri:    \n",
    "        ri = list(filter(lambda a: a != '\\n', ri))\n",
    "        \n",
    "    for i in range(len(ri)):\n",
    "        ri[i] = ri[i].replace('\\xa0','').replace('\\n','')\n",
    "    \n",
    "    research_interests.append(ri)\n",
    "\n",
    "res_int = np.asarray(research_interests)\n",
    "df[\"research_interests\"]=res_int\n",
    "df.to_csv('faculty_more_table.csv',index=False)"
   ]
  },
  {
   "cell_type": "markdown",
   "metadata": {},
   "source": [
    "## Submission"
   ]
  },
  {
   "cell_type": "markdown",
   "metadata": {},
   "source": [
    "Complete the code in this [notebook](A1.ipynb), and submit it to the CourSys activity `Assignment 1`."
   ]
  }
 ],
 "metadata": {
  "kernelspec": {
   "display_name": "Python 3",
   "language": "python",
   "name": "python3"
  },
  "language_info": {
   "codemirror_mode": {
    "name": "ipython",
    "version": 3
   },
   "file_extension": ".py",
   "mimetype": "text/x-python",
   "name": "python",
   "nbconvert_exporter": "python",
   "pygments_lexer": "ipython3",
   "version": "3.7.0"
  }
 },
 "nbformat": 4,
 "nbformat_minor": 1
}
