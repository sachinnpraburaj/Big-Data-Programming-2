{
 "cells": [
  {
   "cell_type": "markdown",
   "metadata": {},
   "source": [
    "# Assignment 8: Correlation Analysis and Hypothesis Testing"
   ]
  },
  {
   "cell_type": "markdown",
   "metadata": {},
   "source": [
    "## Objective"
   ]
  },
  {
   "cell_type": "markdown",
   "metadata": {},
   "source": [
    "The field of statistics is divided into two major parts: descriptive and inferential. In this assignment, we will cover two important topics in statistics: correlation analysis and hypothesis testing, where the former belongs to the descriptive part and the latter belongs to the inferential part. After this assignment, you will be able to answer the following questions:\n",
    "\n",
    "**Correlation Analysis**\n",
    "1. How to visualize the relationship between two variables?  \n",
    "2. What is Pearson's correlation? How to compute it?\n",
    "3. What is Spearman's rank correlation? How to compute it?\n",
    "4. What's the difference between Pearson's correlation and Spearman's rank correlation? \n",
    "\n",
    "\n",
    "**Hypothesis Testing**\n",
    "1. Why A/B testing?  \n",
    "2. What is a permutation test? How to implement it?\n",
    "3. What is p-value? How to avoid p-hacking? \n",
    "4. What is a chi-squared test? How to implement it?\n",
    "\n",
    "\n",
    "In this assignment, you can use [pandas](https://pandas.pydata.org/) or PySpark to manipulate data, and use [matplotlib](https://matplotlib.org/) or [seaborn](seaborn.pydata.org) to make plots. "
   ]
  },
  {
   "cell_type": "markdown",
   "metadata": {},
   "source": [
    "## Part 1. Correlation Analysis"
   ]
  },
  {
   "cell_type": "markdown",
   "metadata": {},
   "source": [
    "As a data scientist, you often face this kind of question: \"Are A and B correlated?\" For example, \n",
    "\n",
    "* Do Canadian Currency and Oil Price move together?\n",
    "* Do Vancouver Housing Price and US Stock Market have any correlation?\n",
    "* Are GPA and Gender independent? \n",
    "\n",
    "To answer these questions, you need to conduct correlation analysis. \n",
    "\n",
    "Imagine you are a data scientist working at a real-estate company. You download a dataset from [property_tax_report_2018.zip](property_tax_report_2018.zip). The dataset contains information on properties from BC Assessment (BCA) and City sources in 2018.  You can find the schema information of the dataset from this [webpage](http://data.vancouver.ca/datacatalogue/propertyTaxAttributes.htm). \n",
    "\n",
    "You may think that for a newly built house, it tends to have a higher price than the ones built decades ago. In this assignment, your first job is to figure out whether YEAR_BUILT and HOUSE_PRICE are correlated. "
   ]
  },
  {
   "cell_type": "markdown",
   "metadata": {},
   "source": [
    "We first load the data as a DataFrame. "
   ]
  },
  {
   "cell_type": "code",
   "execution_count": 1,
   "metadata": {},
   "outputs": [
    {
     "data": {
      "text/html": [
       "<div>\n",
       "<style scoped>\n",
       "    .dataframe tbody tr th:only-of-type {\n",
       "        vertical-align: middle;\n",
       "    }\n",
       "\n",
       "    .dataframe tbody tr th {\n",
       "        vertical-align: top;\n",
       "    }\n",
       "\n",
       "    .dataframe thead th {\n",
       "        text-align: right;\n",
       "    }\n",
       "</style>\n",
       "<table border=\"1\" class=\"dataframe\">\n",
       "  <thead>\n",
       "    <tr style=\"text-align: right;\">\n",
       "      <th></th>\n",
       "      <th>PID</th>\n",
       "      <th>LEGAL_TYPE</th>\n",
       "      <th>FOLIO</th>\n",
       "      <th>LAND_COORDINATE</th>\n",
       "      <th>ZONE_NAME</th>\n",
       "      <th>ZONE_CATEGORY</th>\n",
       "      <th>LOT</th>\n",
       "      <th>BLOCK</th>\n",
       "      <th>PLAN</th>\n",
       "      <th>DISTRICT_LOT</th>\n",
       "      <th>...</th>\n",
       "      <th>CURRENT_LAND_VALUE</th>\n",
       "      <th>CURRENT_IMPROVEMENT_VALUE</th>\n",
       "      <th>TAX_ASSESSMENT_YEAR</th>\n",
       "      <th>PREVIOUS_LAND_VALUE</th>\n",
       "      <th>PREVIOUS_IMPROVEMENT_VALUE</th>\n",
       "      <th>YEAR_BUILT</th>\n",
       "      <th>BIG_IMPROVEMENT_YEAR</th>\n",
       "      <th>TAX_LEVY</th>\n",
       "      <th>NEIGHBOURHOOD_CODE</th>\n",
       "      <th>HOUSE_PRICE</th>\n",
       "    </tr>\n",
       "  </thead>\n",
       "  <tbody>\n",
       "    <tr>\n",
       "      <th>0</th>\n",
       "      <td>025-734-601</td>\n",
       "      <td>STRATA</td>\n",
       "      <td>7.500400e+11</td>\n",
       "      <td>75004024</td>\n",
       "      <td>C-2</td>\n",
       "      <td>Commercial</td>\n",
       "      <td>25</td>\n",
       "      <td>NaN</td>\n",
       "      <td>BCS498</td>\n",
       "      <td>2027</td>\n",
       "      <td>...</td>\n",
       "      <td>592000</td>\n",
       "      <td>242000</td>\n",
       "      <td>2018</td>\n",
       "      <td>472000.0</td>\n",
       "      <td>238000.0</td>\n",
       "      <td>2003.0</td>\n",
       "      <td>2003.0</td>\n",
       "      <td>NaN</td>\n",
       "      <td>3</td>\n",
       "      <td>0.834</td>\n",
       "    </tr>\n",
       "    <tr>\n",
       "      <th>1</th>\n",
       "      <td>029-700-868</td>\n",
       "      <td>STRATA</td>\n",
       "      <td>6.381830e+11</td>\n",
       "      <td>63818250</td>\n",
       "      <td>CD-1 (464)</td>\n",
       "      <td>Comprehensive Development</td>\n",
       "      <td>132</td>\n",
       "      <td>NaN</td>\n",
       "      <td>EPS2983</td>\n",
       "      <td>200A</td>\n",
       "      <td>...</td>\n",
       "      <td>715000</td>\n",
       "      <td>327000</td>\n",
       "      <td>2018</td>\n",
       "      <td>603000.0</td>\n",
       "      <td>329000.0</td>\n",
       "      <td>NaN</td>\n",
       "      <td>NaN</td>\n",
       "      <td>NaN</td>\n",
       "      <td>13</td>\n",
       "      <td>1.042</td>\n",
       "    </tr>\n",
       "    <tr>\n",
       "      <th>2</th>\n",
       "      <td>029-814-227</td>\n",
       "      <td>STRATA</td>\n",
       "      <td>1.708260e+11</td>\n",
       "      <td>17082596</td>\n",
       "      <td>CD-1 (535)</td>\n",
       "      <td>Comprehensive Development</td>\n",
       "      <td>25</td>\n",
       "      <td>NaN</td>\n",
       "      <td>EPS3173</td>\n",
       "      <td>311</td>\n",
       "      <td>...</td>\n",
       "      <td>507000</td>\n",
       "      <td>273000</td>\n",
       "      <td>2018</td>\n",
       "      <td>416000.0</td>\n",
       "      <td>273000.0</td>\n",
       "      <td>NaN</td>\n",
       "      <td>NaN</td>\n",
       "      <td>NaN</td>\n",
       "      <td>12</td>\n",
       "      <td>0.780</td>\n",
       "    </tr>\n",
       "    <tr>\n",
       "      <th>3</th>\n",
       "      <td>029-918-731</td>\n",
       "      <td>STRATA</td>\n",
       "      <td>6.401940e+11</td>\n",
       "      <td>64019406</td>\n",
       "      <td>IC-3</td>\n",
       "      <td>Light Industrial</td>\n",
       "      <td>40</td>\n",
       "      <td>26</td>\n",
       "      <td>EPS2425</td>\n",
       "      <td>200A</td>\n",
       "      <td>...</td>\n",
       "      <td>227000</td>\n",
       "      <td>170000</td>\n",
       "      <td>2018</td>\n",
       "      <td>168000.0</td>\n",
       "      <td>170000.0</td>\n",
       "      <td>NaN</td>\n",
       "      <td>NaN</td>\n",
       "      <td>NaN</td>\n",
       "      <td>13</td>\n",
       "      <td>0.397</td>\n",
       "    </tr>\n",
       "    <tr>\n",
       "      <th>4</th>\n",
       "      <td>017-393-400</td>\n",
       "      <td>STRATA</td>\n",
       "      <td>6.011150e+11</td>\n",
       "      <td>60111496</td>\n",
       "      <td>CD-1 (233)</td>\n",
       "      <td>Comprehensive Development</td>\n",
       "      <td>7</td>\n",
       "      <td>NaN</td>\n",
       "      <td>LMS75</td>\n",
       "      <td>185</td>\n",
       "      <td>...</td>\n",
       "      <td>801000</td>\n",
       "      <td>380000</td>\n",
       "      <td>2018</td>\n",
       "      <td>531000.0</td>\n",
       "      <td>385000.0</td>\n",
       "      <td>1991.0</td>\n",
       "      <td>1991.0</td>\n",
       "      <td>NaN</td>\n",
       "      <td>27</td>\n",
       "      <td>1.181</td>\n",
       "    </tr>\n",
       "  </tbody>\n",
       "</table>\n",
       "<p>5 rows × 29 columns</p>\n",
       "</div>"
      ],
      "text/plain": [
       "           PID LEGAL_TYPE         FOLIO  LAND_COORDINATE   ZONE_NAME  \\\n",
       "0  025-734-601     STRATA  7.500400e+11         75004024         C-2   \n",
       "1  029-700-868     STRATA  6.381830e+11         63818250  CD-1 (464)   \n",
       "2  029-814-227     STRATA  1.708260e+11         17082596  CD-1 (535)   \n",
       "3  029-918-731     STRATA  6.401940e+11         64019406        IC-3   \n",
       "4  017-393-400     STRATA  6.011150e+11         60111496  CD-1 (233)   \n",
       "\n",
       "               ZONE_CATEGORY  LOT BLOCK     PLAN DISTRICT_LOT     ...       \\\n",
       "0                 Commercial   25   NaN   BCS498         2027     ...        \n",
       "1  Comprehensive Development  132   NaN  EPS2983         200A     ...        \n",
       "2  Comprehensive Development   25   NaN  EPS3173          311     ...        \n",
       "3           Light Industrial   40    26  EPS2425         200A     ...        \n",
       "4  Comprehensive Development    7   NaN    LMS75          185     ...        \n",
       "\n",
       "  CURRENT_LAND_VALUE  CURRENT_IMPROVEMENT_VALUE TAX_ASSESSMENT_YEAR  \\\n",
       "0             592000                     242000                2018   \n",
       "1             715000                     327000                2018   \n",
       "2             507000                     273000                2018   \n",
       "3             227000                     170000                2018   \n",
       "4             801000                     380000                2018   \n",
       "\n",
       "  PREVIOUS_LAND_VALUE PREVIOUS_IMPROVEMENT_VALUE YEAR_BUILT  \\\n",
       "0            472000.0                   238000.0     2003.0   \n",
       "1            603000.0                   329000.0        NaN   \n",
       "2            416000.0                   273000.0        NaN   \n",
       "3            168000.0                   170000.0        NaN   \n",
       "4            531000.0                   385000.0     1991.0   \n",
       "\n",
       "  BIG_IMPROVEMENT_YEAR TAX_LEVY NEIGHBOURHOOD_CODE  HOUSE_PRICE  \n",
       "0               2003.0      NaN                  3        0.834  \n",
       "1                  NaN      NaN                 13        1.042  \n",
       "2                  NaN      NaN                 12        0.780  \n",
       "3                  NaN      NaN                 13        0.397  \n",
       "4               1991.0      NaN                 27        1.181  \n",
       "\n",
       "[5 rows x 29 columns]"
      ]
     },
     "metadata": {},
     "output_type": "display_data"
    }
   ],
   "source": [
    "import pandas as pd\n",
    "from IPython.display import display\n",
    "\n",
    "df = pd.read_csv(\"property_tax_report_2018.csv\")\n",
    "\n",
    "df['HOUSE_PRICE'] = df.apply(lambda x: (x['CURRENT_LAND_VALUE']+x['CURRENT_IMPROVEMENT_VALUE'])/1000000.0, axis = 1)\n",
    "\n",
    "display(df.head())"
   ]
  },
  {
   "cell_type": "markdown",
   "metadata": {},
   "source": [
    "### Task A. Visualizations"
   ]
  },
  {
   "cell_type": "markdown",
   "metadata": {},
   "source": [
    "Since the housing price varies a lot by locations, we will only consider the houses whose <font color='blue'>postcode starts with 'V6A'</font>. Furthermore, we remove the houses that were <font color='blue'>built before 1900</font>."
   ]
  },
  {
   "cell_type": "markdown",
   "metadata": {},
   "source": [
    "<img src=\"img/v6a.png\", width=500/>"
   ]
  },
  {
   "cell_type": "markdown",
   "metadata": {},
   "source": [
    "In the following, please make two subplots in one row. For the left subplot, it is a scatter plot with X = `YEAR_BUILT` and Y = `HOUSE_PRICE`; for the right subplot, it is a hexbin plot (gridsize = 20) with X = `YEAR_BUILT` and Y = `HOUSE_PRICE`."
   ]
  },
  {
   "cell_type": "code",
   "execution_count": 2,
   "metadata": {
    "scrolled": true
   },
   "outputs": [
    {
     "name": "stderr",
     "output_type": "stream",
     "text": [
      "I:\\Installed\\Anaconda\\lib\\site-packages\\ipykernel_launcher.py:6: SettingWithCopyWarning: \n",
      "A value is trying to be set on a copy of a slice from a DataFrame.\n",
      "Try using .loc[row_indexer,col_indexer] = value instead\n",
      "\n",
      "See the caveats in the documentation: http://pandas.pydata.org/pandas-docs/stable/indexing.html#indexing-view-versus-copy\n",
      "  \n"
     ]
    },
    {
     "data": {
      "text/plain": [
       "Text(0,0.5,'HOUSE PRICE')"
      ]
     },
     "execution_count": 2,
     "metadata": {},
     "output_type": "execute_result"
    },
    {
     "data": {
      "image/png": "[encoded data removed]",
      "text/plain": [
       "<Figure size 1080x360 with 3 Axes>"
      ]
     },
     "metadata": {
      "needs_background": "light"
     },
     "output_type": "display_data"
    }
   ],
   "source": [
    "#<-- Write Your Code -->\n",
    "import matplotlib.pyplot as plt\n",
    "%matplotlib inline\n",
    "\n",
    "df_area = df.dropna(subset=['PROPERTY_POSTAL_CODE'])\n",
    "df_area['area'] = df_area['PROPERTY_POSTAL_CODE'].astype(str).str.strip().str[0:3]\n",
    "filtered_df = df_area[(df_area[\"YEAR_BUILT\"]>=1900) & (df_area[\"area\"] == \"V6A\")]\n",
    "\n",
    "fig, axes = plt.subplots(nrows=1, ncols=2)\n",
    "\n",
    "scatter = filtered_df.plot.scatter(ax = axes[0], x='YEAR_BUILT',y='HOUSE_PRICE',title='Year built VS House Price',alpha=0.5, figsize=(15,5))\n",
    "scatter.set_xlabel('YEAR BUILT')\n",
    "scatter.set_ylabel('HOUSE PRICE')\n",
    "\n",
    "hexbin = filtered_df.plot.hexbin(ax = axes[1], x='YEAR_BUILT',y='HOUSE_PRICE',title='Year built VS House Price', figsize=(15,5),gridsize=20)\n",
    "hexbin.set_xlabel('YEAR BUILT')\n",
    "hexbin.set_ylabel('HOUSE PRICE')"
   ]
  },
  {
   "cell_type": "markdown",
   "metadata": {},
   "source": [
    "Please write down the **two** most interesting findings that you draw from the plot.\n",
    "\n",
    "**Findings**\n",
    "1. From the scatter plot, we can observe that most of the houses in area 'V6A' built after 1900 have price less than 20 million. Correlation between year-built and house price does not exist\n",
    "2. In hexbin plot, we can observe that the density of the data points (i.e. the number of houses) is very high after around 1990 and below price of 20 million. Still, there is no obvious correlation between year-built and house price from hexbin plot."
   ]
  },
  {
   "cell_type": "markdown",
   "metadata": {},
   "source": [
    "The above plots provide a general impression of the relationship between variables. There are some other visualizations that can provide more insight. One option is to bin one variable and plot percentiles of the other. \n",
    "\n",
    "\n",
    "In the following, please make three subplots in a row, where each subplot is a scatter plot with X = YEAR_BUILT and Y = HOUSE_PRICE. \n",
    "* The first subplot shows how the 25th percentile of `HOUSE_PRICE` changes over years (X = `YEAR_BUILT`, Y = `25TH_HOUSE_PRICE`); \n",
    "* The second subplot shows how the 50th percentile of `HOUSE_PRICE` changes over years (X = `YEAR_BUILT`, Y = `50TH_HOUSE_PRICE`); \n",
    "* The third subplot shows how the 75th percentile of `HOUSE_PRICE` changes over years (X = `YEAR_BUILT`, Y = `75TH_HOUSE_PRICE`);  \n"
   ]
  },
  {
   "cell_type": "code",
   "execution_count": 3,
   "metadata": {},
   "outputs": [
    {
     "data": {
      "text/plain": [
       "Text(0,0.5,'HOUSE PRICE')"
      ]
     },
     "execution_count": 3,
     "metadata": {},
     "output_type": "execute_result"
    },
    {
     "data": {
      "image/png": "[encoded data removed]",
      "text/plain": [
       "<Figure size 1080x360 with 3 Axes>"
      ]
     },
     "metadata": {
      "needs_background": "light"
     },
     "output_type": "display_data"
    }
   ],
   "source": [
    "#<-- Write Your Code -->\n",
    "\n",
    "percentile_df = filtered_df.groupby('YEAR_BUILT')['HOUSE_PRICE'].quantile(.25).reset_index().rename(columns = {'HOUSE_PRICE':'25TH_HOUSE_PRICE'})\n",
    "percentile_df['50TH_HOUSE_PRICE'] = filtered_df.groupby('YEAR_BUILT')['HOUSE_PRICE'].quantile(.50).reset_index()['HOUSE_PRICE']\n",
    "percentile_df['75TH_HOUSE_PRICE'] = filtered_df.groupby('YEAR_BUILT')['HOUSE_PRICE'].quantile(.75).reset_index()['HOUSE_PRICE']\n",
    "\n",
    "fig, axes = plt.subplots(nrows=1, ncols=3)\n",
    "\n",
    "scatter1 = percentile_df.plot.scatter(ax = axes[0], x='YEAR_BUILT',y='25TH_HOUSE_PRICE',title='Year built VS 25th percentile of House Price',alpha=0.5, figsize=(15,5))\n",
    "scatter1.set_xlabel('YEAR BUILT')\n",
    "scatter1.set_ylabel('HOUSE PRICE')\n",
    "\n",
    "scatter2 = percentile_df.plot.scatter(ax = axes[1], x='YEAR_BUILT',y='50TH_HOUSE_PRICE',title='Year built VS 50th percentile of House Price',alpha=0.5, figsize=(15,5))\n",
    "scatter2.set_xlabel('YEAR BUILT')\n",
    "scatter2.set_ylabel('HOUSE PRICE')\n",
    "\n",
    "scatter3 = percentile_df.plot.scatter(ax = axes[2], x='YEAR_BUILT',y='75TH_HOUSE_PRICE',title='Year built VS 75th percentile of House Price',alpha=0.5, figsize=(15,5))\n",
    "scatter3.set_xlabel('YEAR BUILT')\n",
    "scatter3.set_ylabel('HOUSE PRICE')"
   ]
  },
  {
   "cell_type": "markdown",
   "metadata": {},
   "source": [
    "Please write down the **two** most interesting findings that you draw from the plot.\n",
    "\n",
    "**Findings**\n",
    "1. The density of houses over the years is high for house price < 10 Million.\n",
    "2. Interestingly, the houses built before the year 1980 have higher prices compared to the ones that were built after."
   ]
  },
  {
   "cell_type": "markdown",
   "metadata": {},
   "source": [
    "### Task B. Correlation Coefficient"
   ]
  },
  {
   "cell_type": "markdown",
   "metadata": {},
   "source": [
    "A correlation coefficient is a numerical measure of some type of correlation, meaning a statistical relationship between a pair of variables. \n",
    "\n",
    "In the following, please compute the Pearson's correlation as well as Spearman's rank correlation for three pairs of variables: <`25TH_HOUSE_PRICE`, `YEAR_BUILT`>, <`50TH_HOUSE_PRICE`, `YEAR_BUILT`>, and <`75TH_HOUSE_PRICE`, `YEAR_BUILT`>, and then print out your results. \n",
    "\n",
    "Note that it is OK to use this [function](https://pandas.pydata.org/pandas-docs/stable/generated/pandas.DataFrame.corr.html) to do this task, but make sure that you understand how the numbers are computed. "
   ]
  },
  {
   "cell_type": "code",
   "execution_count": 4,
   "metadata": {
    "scrolled": true
   },
   "outputs": [
    {
     "name": "stdout",
     "output_type": "stream",
     "text": [
      "Pearson Correlation values for 3 pairs of variables:\n"
     ]
    },
    {
     "data": {
      "text/html": [
       "<div>\n",
       "<style scoped>\n",
       "    .dataframe tbody tr th:only-of-type {\n",
       "        vertical-align: middle;\n",
       "    }\n",
       "\n",
       "    .dataframe tbody tr th {\n",
       "        vertical-align: top;\n",
       "    }\n",
       "\n",
       "    .dataframe thead th {\n",
       "        text-align: right;\n",
       "    }\n",
       "</style>\n",
       "<table border=\"1\" class=\"dataframe\">\n",
       "  <thead>\n",
       "    <tr style=\"text-align: right;\">\n",
       "      <th></th>\n",
       "      <th>25TH_HOUSE_PRICE</th>\n",
       "      <th>50TH_HOUSE_PRICE</th>\n",
       "      <th>75TH_HOUSE_PRICE</th>\n",
       "    </tr>\n",
       "  </thead>\n",
       "  <tbody>\n",
       "    <tr>\n",
       "      <th>YEAR_BUILT</th>\n",
       "      <td>-0.244533</td>\n",
       "      <td>-0.237504</td>\n",
       "      <td>-0.212677</td>\n",
       "    </tr>\n",
       "  </tbody>\n",
       "</table>\n",
       "</div>"
      ],
      "text/plain": [
       "            25TH_HOUSE_PRICE  50TH_HOUSE_PRICE  75TH_HOUSE_PRICE\n",
       "YEAR_BUILT         -0.244533         -0.237504         -0.212677"
      ]
     },
     "metadata": {},
     "output_type": "display_data"
    },
    {
     "name": "stdout",
     "output_type": "stream",
     "text": [
      "Spearman Correlation values for 3 pairs of variables:\n"
     ]
    },
    {
     "data": {
      "text/html": [
       "<div>\n",
       "<style scoped>\n",
       "    .dataframe tbody tr th:only-of-type {\n",
       "        vertical-align: middle;\n",
       "    }\n",
       "\n",
       "    .dataframe tbody tr th {\n",
       "        vertical-align: top;\n",
       "    }\n",
       "\n",
       "    .dataframe thead th {\n",
       "        text-align: right;\n",
       "    }\n",
       "</style>\n",
       "<table border=\"1\" class=\"dataframe\">\n",
       "  <thead>\n",
       "    <tr style=\"text-align: right;\">\n",
       "      <th></th>\n",
       "      <th>25TH_HOUSE_PRICE</th>\n",
       "      <th>50TH_HOUSE_PRICE</th>\n",
       "      <th>75TH_HOUSE_PRICE</th>\n",
       "    </tr>\n",
       "  </thead>\n",
       "  <tbody>\n",
       "    <tr>\n",
       "      <th>YEAR_BUILT</th>\n",
       "      <td>-0.572112</td>\n",
       "      <td>-0.509847</td>\n",
       "      <td>-0.400442</td>\n",
       "    </tr>\n",
       "  </tbody>\n",
       "</table>\n",
       "</div>"
      ],
      "text/plain": [
       "            25TH_HOUSE_PRICE  50TH_HOUSE_PRICE  75TH_HOUSE_PRICE\n",
       "YEAR_BUILT         -0.572112         -0.509847         -0.400442"
      ]
     },
     "metadata": {},
     "output_type": "display_data"
    }
   ],
   "source": [
    "#<-- Write Your Code -->\n",
    "print(\"Pearson Correlation values for 3 pairs of variables:\")\n",
    "display(percentile_df.corr(method='pearson').iloc[:1,1:])\n",
    "print(\"Spearman Correlation values for 3 pairs of variables:\")\n",
    "display(percentile_df.corr(method='spearman').iloc[:1,1:])"
   ]
  },
  {
   "cell_type": "markdown",
   "metadata": {},
   "source": [
    "Please write down the **two** most interesting findings that you draw from the result. \n",
    "\n",
    "**Findings**\n",
    "1. All three pairs have monotonic correlation score compared to linear correlation score.\n",
    "2. All three pairs have negative correlation with small magnitude and 25th percentile House price has highest correlation with year_built compared to other pairs. "
   ]
  },
  {
   "cell_type": "markdown",
   "metadata": {},
   "source": [
    "## Part 2. Hypothesis Testing"
   ]
  },
  {
   "cell_type": "markdown",
   "metadata": {},
   "source": [
    "In many situations, we cannot get the full population but only a sample. If we derive an interesting result from a sample, how likely can we derive the same result from the entire population? In other words, we want to know whether this result is a true finding or it just happens in the sample by chance. Hypothesis testing aims to answer this fundamental question. "
   ]
  },
  {
   "cell_type": "markdown",
   "metadata": {},
   "source": [
    "### Task C. A/B Testing\n",
    "> Acknowledgment: Thank [Greg Baker](http://www.cs.sfu.ca/~ggbaker/) for helping me to prepare this task.\n",
    "\n",
    "A very common technique to evaluate changes in a user interface is A/B testing: show some users interface A, some interface B, and then look to see if one performs better than the other.\n",
    "\n",
    "Suppose I started an A/B test on CourSys. Here are the two interfaces that I want to compare with. I want to know whether a good placeholder in the search box can attract more users to use the `search` feature.\n",
    "\n",
    "\n",
    "![](img/ab-testing.png)"
   ]
  },
  {
   "cell_type": "markdown",
   "metadata": {},
   "source": [
    "The provided [searchlog.json](./searchlog.json) has information about users' usage. The question I was interested in: is the number of searches per user different?"
   ]
  },
  {
   "cell_type": "markdown",
   "metadata": {},
   "source": [
    "To answer this question, we need to first pick up a **test statistic** to quantify how good an interface is. Here, we choose \"the search_count mean\". \n",
    "\n",
    "Please write the code to compute **the difference of the search_count means between interface A and Interface B.** "
   ]
  },
  {
   "cell_type": "code",
   "execution_count": 5,
   "metadata": {},
   "outputs": [
    {
     "data": {
      "text/html": [
       "<div>\n",
       "<style scoped>\n",
       "    .dataframe tbody tr th:only-of-type {\n",
       "        vertical-align: middle;\n",
       "    }\n",
       "\n",
       "    .dataframe tbody tr th {\n",
       "        vertical-align: top;\n",
       "    }\n",
       "\n",
       "    .dataframe thead th {\n",
       "        text-align: right;\n",
       "    }\n",
       "</style>\n",
       "<table border=\"1\" class=\"dataframe\">\n",
       "  <thead>\n",
       "    <tr style=\"text-align: right;\">\n",
       "      <th></th>\n",
       "      <th>search_ui</th>\n",
       "      <th>search_count</th>\n",
       "    </tr>\n",
       "  </thead>\n",
       "  <tbody>\n",
       "    <tr>\n",
       "      <th>0</th>\n",
       "      <td>A</td>\n",
       "      <td>0.663793</td>\n",
       "    </tr>\n",
       "    <tr>\n",
       "      <th>1</th>\n",
       "      <td>B</td>\n",
       "      <td>0.798799</td>\n",
       "    </tr>\n",
       "  </tbody>\n",
       "</table>\n",
       "</div>"
      ],
      "text/plain": [
       "  search_ui  search_count\n",
       "0         A      0.663793\n",
       "1         B      0.798799"
      ]
     },
     "metadata": {},
     "output_type": "display_data"
    },
    {
     "name": "stdout",
     "output_type": "stream",
     "text": [
      "Difference of the search_count means between interface A and interface B is : -0.135\n",
      "That is the mean search count for interface B is greater than interface A by 0.135\n"
     ]
    }
   ],
   "source": [
    "#<-- Write Your Code -->\n",
    "log_df = pd.read_json('searchlog.json',lines=True)\n",
    "mean_df = log_df.groupby('search_ui').mean()['search_count'].reset_index()\n",
    "display(mean_df)\n",
    "\n",
    "sc_mean_diff = (mean_df[mean_df['search_ui']=='A']['search_count'][0] - mean_df[mean_df['search_ui']=='B']['search_count'][1])\n",
    "print(\"Difference of the search_count means between interface A and interface B is :\",round(sc_mean_diff,3))\n",
    "print(\"That is the mean search count for interface B is greater than interface A by \"+str(round(abs(sc_mean_diff),3)))"
   ]
  },
  {
   "cell_type": "markdown",
   "metadata": {},
   "source": [
    "Suppose we find that the mean value increased by 0.135. Then, we wonder whether this result is just caused by random variation. \n",
    "\n",
    "We define the Null Hypothesis as\n",
    " * The difference in search_count mean between Interface A and Interface B is caused by random variation. \n",
    " \n",
    "Then the next job is to check whether we can reject the null hypothesis or not. If it does, we can adopt the alternative explanation:\n",
    " * The difference in search_count mean  between Interface A and Interface B is caused by the design differences between the two.\n",
    "\n",
    "We compute the p-value of the observed result. If p-value is low (e.g., <0.01), we can reject the null hypothesis, and adopt  the alternative explanation.  \n",
    "\n",
    "Please implement a permutation test (numSamples = 10000) to compute the p-value. Note that you are NOT allowed to use an implementation in an existing library. You have to implement it by yourself."
   ]
  },
  {
   "cell_type": "code",
   "execution_count": 6,
   "metadata": {},
   "outputs": [
    {
     "name": "stdout",
     "output_type": "stream",
     "text": [
      "p-value from the permutation test :  0.1223\n",
      "Since p-value (0.1223) > 0.01, Null Hypothesis has been accepted. i.e., The difference in search_count mean between Interface A and Interface B is caused by random variation.\n"
     ]
    }
   ],
   "source": [
    "#<-- Write Your Code -->\n",
    "import numpy as np\n",
    "\n",
    "def perm_test(input_df,diff,numSamples):\n",
    "    num = 0\n",
    "    for j in range(numSamples):\n",
    "        df = input_df\n",
    "        np.random.seed(42)\n",
    "        np.random.shuffle(df['search_ui'].values)\n",
    "        df = df.groupby('search_ui').mean()['search_count'].reset_index()\n",
    "        shuffled_diff = (df[df['search_ui']=='A']['search_count'][0] - df[df['search_ui']=='B']['search_count'][1])\n",
    "        num += shuffled_diff <= diff\n",
    "    return float(num/numSamples)\n",
    "\n",
    "pvalue = perm_test(log_df[['search_ui','search_count']],sc_mean_diff,10000)\n",
    "print(\"p-value from the permutation test : \",pvalue)\n",
    "print(\"Since p-value ({value}) > 0.01, Null Hypothesis has been accepted. i.e., The difference in search_count mean between Interface A and Interface B is caused by random variation.\".format(value=pvalue))"
   ]
  },
  {
   "cell_type": "markdown",
   "metadata": {},
   "source": [
    "Suppose we want to use the same dataset to do another A/B testing. We suspect that instructors are the ones who can get more useful information from the search feature, so perhaps non-instructors didn't touch the search feature because it was genuinely not relevant to them.\n",
    "\n",
    "So we decide to repeat the above analysis looking only at instructors."
   ]
  },
  {
   "cell_type": "markdown",
   "metadata": {},
   "source": [
    "**Q. If using the same dataset to do this analysis, do you feel like we're p-hacking? If so, what can we do with it? **"
   ]
  },
  {
   "cell_type": "markdown",
   "metadata": {},
   "source": [
    "**A.** Yes, performing multiple analysis on the dataset to find something significant is p-hacking. To solve this problem, we can decrease the significance level of both the hypothesis tests to α/2 (in this case 0.01/2 = 0.005) and then perform both the tests."
   ]
  },
  {
   "cell_type": "markdown",
   "metadata": {},
   "source": [
    "### Task D. Chi-squared test "
   ]
  },
  {
   "cell_type": "markdown",
   "metadata": {},
   "source": [
    "There are tens of different hypothesis testing methods. It's impossible to cover all of them in one week. Given that this is an important topic in statistics, I highly recommend using your free time to learn some other popular ones such as <a href=\"https://en.wikipedia.org/wiki/Chi-squared_test\">Chi-Squired test</a>, <a href=\"https://en.wikipedia.org/wiki/G-test\">G-test</a>, <a href=\"https://en.wikipedia.org/wiki/Student%27s_t-test\">T-test</a>, and <a href=\"https://en.wikipedia.org/wiki/Mann%E2%80%93Whitney_U_test\">Mann–Whitney U test</a>.\n",
    "\n",
    "On the searchlog dataset, there are two categorical columns: `is_instructor` and `search_ui`. In Task D, your job is to first learn how a Chi-Squired test works by yourself and then use it to test whether `is_instructor` and `search_ui` are correlated. "
   ]
  },
  {
   "cell_type": "markdown",
   "metadata": {},
   "source": [
    "Please write code to compute the contingency table, the chi-squared stat, the degrees of freedom, and the p-value. Note that unlike Task C, you can call any function in an existing library. But, please make sure to understand how those functions are implemented. "
   ]
  },
  {
   "cell_type": "code",
   "execution_count": 7,
   "metadata": {},
   "outputs": [
    {
     "data": {
      "text/html": [
       "<div>\n",
       "<style scoped>\n",
       "    .dataframe tbody tr th:only-of-type {\n",
       "        vertical-align: middle;\n",
       "    }\n",
       "\n",
       "    .dataframe tbody tr th {\n",
       "        vertical-align: top;\n",
       "    }\n",
       "\n",
       "    .dataframe thead th {\n",
       "        text-align: right;\n",
       "    }\n",
       "</style>\n",
       "<table border=\"1\" class=\"dataframe\">\n",
       "  <thead>\n",
       "    <tr style=\"text-align: right;\">\n",
       "      <th>search_ui</th>\n",
       "      <th>A</th>\n",
       "      <th>B</th>\n",
       "    </tr>\n",
       "    <tr>\n",
       "      <th>is_instructor</th>\n",
       "      <th></th>\n",
       "      <th></th>\n",
       "    </tr>\n",
       "  </thead>\n",
       "  <tbody>\n",
       "    <tr>\n",
       "      <th>False</th>\n",
       "      <td>233</td>\n",
       "      <td>213</td>\n",
       "    </tr>\n",
       "    <tr>\n",
       "      <th>True</th>\n",
       "      <td>115</td>\n",
       "      <td>120</td>\n",
       "    </tr>\n",
       "  </tbody>\n",
       "</table>\n",
       "</div>"
      ],
      "text/plain": [
       "search_ui        A    B\n",
       "is_instructor          \n",
       "False          233  213\n",
       "True           115  120"
      ]
     },
     "metadata": {},
     "output_type": "display_data"
    },
    {
     "name": "stdout",
     "output_type": "stream",
     "text": [
      "chi-sqaured stat: 0.5473712356215867\n",
      "degrees of freedom: 1\n",
      "p-value: 0.459393799574249\n"
     ]
    }
   ],
   "source": [
    "#<-- Write Your Code -->\n",
    "from scipy.stats import chi2_contingency\n",
    "\n",
    "contingency_table = pd.crosstab(log_df['is_instructor'],log_df['search_ui'])\n",
    "\n",
    "chi2, p, dof, expected = chi2_contingency(contingency_table)\n",
    "\n",
    "display(contingency_table)\n",
    "print('chi-sqaured stat:', chi2)\n",
    "print('degrees of freedom:', dof)\n",
    "print('p-value:', p)"
   ]
  },
  {
   "cell_type": "markdown",
   "metadata": {},
   "source": [
    "## Submission"
   ]
  },
  {
   "cell_type": "markdown",
   "metadata": {},
   "source": [
    "Complete Tasks A-D in this [notebook](https://github.com/sfu-db/bigdata-cmpt733/blob/master/Assignments/A8/A8.ipynb), and submit it to the CourSys activity Assignment 8."
   ]
  }
 ],
 "metadata": {
  "kernelspec": {
   "display_name": "Python 3",
   "language": "python",
   "name": "python3"
  },
  "language_info": {
   "codemirror_mode": {
    "name": "ipython",
    "version": 3
   },
   "file_extension": ".py",
   "mimetype": "text/x-python",
   "name": "python",
   "nbconvert_exporter": "python",
   "pygments_lexer": "ipython3",
   "version": "3.7.0"
  }
 },
 "nbformat": 4,
 "nbformat_minor": 2
}
